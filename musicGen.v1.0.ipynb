{
 "cells": [
  {
   "cell_type": "code",
   "execution_count": 1,
   "metadata": {},
   "outputs": [],
   "source": [
    "import numpy as np\n",
    "import tensorflow as tf\n",
    "from music21 import *\n",
    "import os\n",
    "import time"
   ]
  },
  {
   "cell_type": "code",
   "execution_count": 2,
   "metadata": {},
   "outputs": [],
   "source": [
    "def _parseMidi1(filename):\n",
    "    notes = []\n",
    "    sample = converter.parse(filename)\n",
    "    sample_parts = instrument.partitionByInstrument(sample)\n",
    "    for part in sample_parts.parts:\n",
    "        if 'Piano' in str(part):\n",
    "            notes_to_parse = part.recurse()\n",
    "            for ele in notes_to_parse:\n",
    "                if isinstance(ele, note.Note):\n",
    "                    notes.append(str(ele.pitch))\n",
    "                if isinstance(ele, chord.Chord):\n",
    "                    notes.append('.'.join(str(n) for n in ele.pitches))\n",
    "                    \n",
    "    return np.array(notes)"
   ]
  },
  {
   "cell_type": "code",
   "execution_count": 3,
   "metadata": {},
   "outputs": [],
   "source": [
    "def _parseMidi2(filename):\n",
    "    sample = converter.parse(filename)\n",
    "    sample_corded = sample.cordify()\n",
    "    for ele in sample_corded:\n",
    "        if isinstance(ele, note.Note):\n",
    "            print(ele.pitch)\n",
    "        if isinstance(ele, chord.Chord):\n",
    "            print('.'.join(str(n) for n in ele.pitches))"
   ]
  }
 ],
 "metadata": {
  "kernelspec": {
   "display_name": "Python 3",
   "language": "python",
   "name": "python3"
  },
  "language_info": {
   "codemirror_mode": {
    "name": "ipython",
    "version": 3
   },
   "file_extension": ".py",
   "mimetype": "text/x-python",
   "name": "python",
   "nbconvert_exporter": "python",
   "pygments_lexer": "ipython3",
   "version": "3.6.10"
  }
 },
 "nbformat": 4,
 "nbformat_minor": 4
}
